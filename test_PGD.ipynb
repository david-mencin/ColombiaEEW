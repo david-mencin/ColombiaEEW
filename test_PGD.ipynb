{
 "cells": [
  {
   "cell_type": "code",
   "execution_count": 51,
   "id": "d636ef1e-c3e2-4c85-8526-97f160ef53ba",
   "metadata": {},
   "outputs": [],
   "source": [
    "#import required libraries, note you need the GMT package installed at\n",
    "#the system level to support pygmt \n",
    "import pygmt\n",
    "import numpy as np\n",
    "import pandas as pd\n",
    "import matplotlib as mpl\n",
    "import matplotlib.pyplot as plt"
   ]
  },
  {
   "cell_type": "code",
   "execution_count": 52,
   "id": "527ccaab-4e58-4b52-ab1f-c0694552dd94",
   "metadata": {},
   "outputs": [],
   "source": [
    "def pgd(\n",
    "        mag_w,\n",
    "        distance_km,\n",
    "        *,\n",
    "        depth=0,\n",
    "        method='Melgar2D_2015'):\n",
    "    \"\"\"\n",
    "    pgd Calculates expected peak ground displacment based on hypo-central\n",
    "    distance and Mw. PGD is defined as sqrt(x^2+y^2+z^2) for all methods\n",
    "    except Melgar2D_2015, where it is sqrt(x^2+y^2).\n",
    "    Distance units are in km.\n",
    "    pgd is returned in cm.\n",
    "\n",
    "    Parameters\n",
    "    ----------\n",
    "    :param mag_w: float\n",
    "        Magnitude of earthquake\n",
    "    :param distance_km: float or list of floats\n",
    "        distance from earthquake, assumed to be epicentral distance unless a\n",
    "        depth is supplied.\n",
    "    :param depth: float\n",
    "        optional\n",
    "        depth of earthquake in km, depth positive, default is 0 km\n",
    "    :param method: string\n",
    "        optional\n",
    "        method used for pgd calculation, can be\n",
    "        Melgar2D_2015 (default)\n",
    "        Melgar3D_2015\n",
    "        Crowell_2016\n",
    "        Ruhl_2019 (Do not use...)\n",
    "    :return:\n",
    "        float or list of floats (if distance is supplied as an list), output is in cm.\n",
    "\n",
    "    UNAVCO 2020-2022 (Mencin)\n",
    "    \"\"\"\n",
    "    distance = np.array(distance_km)\n",
    "\n",
    "    if method == 'Melgar2D_2015':\n",
    "        a = -4.639\n",
    "        b = 1.063\n",
    "        c = -0.137\n",
    "    elif method == 'Melgar3D_2015':\n",
    "        a = -4.434\n",
    "        b = 1.047\n",
    "        c = -0.138\n",
    "    elif method == 'Crowell_2016':\n",
    "        a = -6.687\n",
    "        b = 1.500\n",
    "        c = -0.214\n",
    "    elif method == 'Ruhl_2019':\n",
    "        a = -5.919\n",
    "        b = 1.009\n",
    "        c = -0.145\n",
    "        distance_km = distance_km*1000\n",
    "    else:\n",
    "        sys.exit(\"Invalid method, use: Melgar2D_2015 (default), Melgar3D_2015, Crowell_2016 or Ruhl_2019.\")\n",
    "\n",
    "    log_pgd = a + b * mag_w + c * mag_w * np.log10(np.sqrt(np.power(distance, 2) + np.power(depth, 2)))\n",
    "    peak_ground_displacement_mm = np.float_power(10, log_pgd)\n",
    "\n",
    "    if method == 'Ruhl_2019':\n",
    "        peak_ground_displacement_mm = peak_ground_displacement_mm * 100\n",
    "    else:\n",
    "        peak_ground_displacement_mm = peak_ground_displacement_mm\n",
    "\n",
    "    return peak_ground_displacement_mm"
   ]
  },
  {
   "cell_type": "code",
   "execution_count": 53,
   "id": "17eeb797-471d-4c21-8d4b-ceb76f39e01f",
   "metadata": {},
   "outputs": [],
   "source": [
    "def get_distance_from_mw(\n",
    "                        mag_w,\n",
    "                        *,\n",
    "                        pgd_threshold=1.0,\n",
    "                        method='Melgar2D_2015'):\n",
    "    \"\"\"\n",
    "    get_distance_from_mw Calculates distance that given peak ground displacement would occur, based on\n",
    "    hypo-central distance and Mw. PGD is defined as sqrt(x^2+y^2+z^2) for all methods except Melgar2D_2015,\n",
    "    where it is sqrt(x^2+y^2).\n",
    "    pgd units in cm.\n",
    "    Distance units are in km.\n",
    "\n",
    "\n",
    "    :param mag_w:\n",
    "        Magnitude of earthquake\n",
    "    :param pgd_threshold:\n",
    "        expected pgd (cm).\n",
    "    :param method:\n",
    "        optional\n",
    "        method used for pgd calculation, can be\n",
    "        Melgar2D_2015 (default)\n",
    "        Melgar3D_2015\n",
    "        Crowell_2016\n",
    "        Ruhl_2019\n",
    "    :return:\n",
    "        distance (km) that expected pgd (cm) would occur.\n",
    "\n",
    "    UNAVCO 2020 (Mencin, based on Hodgkinson)\n",
    "    \"\"\"\n",
    "\n",
    "    if method == 'Melgar2D_2015':\n",
    "        a = -4.639\n",
    "        b = 1.063\n",
    "        c = -0.137\n",
    "    elif method == 'Melgar3D_2015':\n",
    "        a = -4.434\n",
    "        b = 1.047\n",
    "        c = -0.138\n",
    "    elif method == 'Crowell_2016':\n",
    "        a = -6.687\n",
    "        b = 1.500\n",
    "        c = -0.214\n",
    "    elif method == 'Ruhl_2019':\n",
    "        a = -5.919\n",
    "        b = 1.009\n",
    "        c = -0.145\n",
    "        # This method uses meters\n",
    "        pgd_threshold=pgd_threshold*.01\n",
    "    else:\n",
    "        sys.exit(\"Invalid method, use: Melgar2D_2015 (default), Melgar3D_2015, Crowell_2016 or Ruhl_2019.\")\n",
    "\n",
    "    radius = np.power(10, (np.log10(pgd_threshold) - a - b * mag_w) / (c * mag_w))\n",
    "\n",
    "    return radius"
   ]
  },
  {
   "cell_type": "code",
   "execution_count": 54,
   "id": "f37193a9-c78c-43db-b759-bb4ebf652177",
   "metadata": {},
   "outputs": [
    {
     "data": {
      "text/plain": [
       "2.0000000000000004"
      ]
     },
     "execution_count": 54,
     "metadata": {},
     "output_type": "execute_result"
    }
   ],
   "source": [
    "#temp = get_distance_from_mw(6.5,pgd_threshold=1.0)\n",
    "temp = pgd(6.5,get_distance_from_mw(6.5,pgd_threshold=2.0))\n",
    "temp"
   ]
  },
  {
   "cell_type": "code",
   "execution_count": 80,
   "id": "0891578a-1fc5-4cce-adb3-b8bd29fba709",
   "metadata": {},
   "outputs": [
    {
     "data": {
      "text/plain": [
       "Text(212.79653163465431, 12.0, 'Detection Radius')"
      ]
     },
     "execution_count": 80,
     "metadata": {},
     "output_type": "execute_result"
    },
    {
     "data": {
      "image/png": "[encoded data removed]",
      "text/plain": [
       "<Figure size 720x432 with 1 Axes>"
      ]
     },
     "metadata": {
      "needs_background": "light"
     },
     "output_type": "display_data"
    }
   ],
   "source": [
    "noise = 2.0\n",
    "max_dist = 500\n",
    "mag = 6.5\n",
    "distance = np.arange(1,max_dist,1)\n",
    "pgd_threshold = np.linspace(noise,noise,num=max_dist-1)\n",
    "pgd_pred = pgd(mag,distance)\n",
    "fig, ax = plt.subplots(figsize=(10, 6), layout='constrained')\n",
    "plt.ylim([0, 50])\n",
    "plt.xlim([0, max_dist])\n",
    "ax.plot(distance,pgd_pred)\n",
    "ax.plot(distance,pgd_threshold)\n",
    "ax.set_xlabel('distance(km)')\n",
    "ax.set_ylabel('PGD(cm)')\n",
    "dist = get_distance_from_mw(6.5,pgd_threshold=noise)\n",
    "ax.annotate('PGD', xy=(50, pgd(mag,50)), xytext=(100, noise+30), arrowprops=dict(arrowstyle='Simple'))\n",
    "ax.annotate('PGD(min)', xy=(400, noise), xytext=(300, noise+20), arrowprops=dict(arrowstyle='Simple'))\n",
    "ax.annotate('Detection Radius', xy=(get_distance_from_mw(6.5,pgd_threshold=noise), noise), xytext=(get_distance_from_mw(6.5,pgd_threshold=noise)+50, noise+10), arrowprops=dict(arrowstyle='Simple'))"
   ]
  },
  {
   "cell_type": "code",
   "execution_count": 81,
   "id": "aef789f1-883a-4061-a20e-e2b526ae3567",
   "metadata": {},
   "outputs": [],
   "source": [
    "fig.savefig('PGD_example.png',format='png')"
   ]
  },
  {
   "cell_type": "code",
   "execution_count": null,
   "id": "0eeffd4a-e99b-4747-a330-983b78f7fe05",
   "metadata": {},
   "outputs": [],
   "source": []
  }
 ],
 "metadata": {
  "kernelspec": {
   "display_name": "filesystem-eew",
   "language": "python",
   "name": "conda-env-filesystem-eew-py"
  },
  "language_info": {
   "codemirror_mode": {
    "name": "ipython",
    "version": 3
   },
   "file_extension": ".py",
   "mimetype": "text/x-python",
   "name": "python",
   "nbconvert_exporter": "python",
   "pygments_lexer": "ipython3",
   "version": "3.9.12"
  }
 },
 "nbformat": 4,
 "nbformat_minor": 5
}
