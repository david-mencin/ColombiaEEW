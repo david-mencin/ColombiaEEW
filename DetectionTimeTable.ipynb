{
 "cells": [
  {
   "cell_type": "code",
   "execution_count": 5,
   "id": "8c1ca081-dbf2-4d80-9d6b-af06a1a40597",
   "metadata": {},
   "outputs": [],
   "source": [
    "import pygmt\n",
    "import numpy as np\n",
    "import pandas as pd\n",
    "import geopy.distance"
   ]
  },
  {
   "cell_type": "code",
   "execution_count": 61,
   "id": "1c95c7b1-f66d-439d-8a78-0d5c5c0b4ad4",
   "metadata": {},
   "outputs": [],
   "source": [
    "colombia_stations = 'Colombia-Noise.csv'\n",
    "ecuador_stations = 'Ecuador-Noise.csv'\n",
    "earthquakes_file = 'Earthquakes.csv'\n",
    "cities_file = 'Cities.csv'"
   ]
  },
  {
   "cell_type": "code",
   "execution_count": 91,
   "id": "b537ec01-fde8-45d7-9fc5-68e26da194bd",
   "metadata": {
    "tags": []
   },
   "outputs": [],
   "source": [
    "# Read in station locations and noise for each station\n",
    "dfE = pd.read_csv(ecuador_stations)\n",
    "dfC = pd.read_csv(colombia_stations)\n",
    "frames = [dfC, dfE ]\n",
    "df = pd.concat(frames)"
   ]
  },
  {
   "cell_type": "code",
   "execution_count": 92,
   "id": "d912ad36-5363-4423-b2d6-1afef44dc446",
   "metadata": {},
   "outputs": [],
   "source": [
    "cities = pd.read_csv(cities_file)"
   ]
  },
  {
   "cell_type": "code",
   "execution_count": 93,
   "id": "d288b98e-6504-4431-b362-b8dc10baa066",
   "metadata": {},
   "outputs": [],
   "source": [
    "eqs = pd.read_csv(earthquakes_file)\n",
    "eqs['Date'] = pd.to_datetime(eqs['Date'])"
   ]
  },
  {
   "cell_type": "code",
   "execution_count": 94,
   "id": "a482a655-d4d5-493c-b822-d074147bcc07",
   "metadata": {},
   "outputs": [],
   "source": [
    "#minimum number of stations for detection\n",
    "min = 4\n",
    "#Seimic velocity in km/sec\n",
    "vel = 4\n",
    "# Time required to process and issue warning\n",
    "issue = 6"
   ]
  },
  {
   "cell_type": "code",
   "execution_count": 95,
   "id": "93cfe193-c445-45d1-980f-f51c26799788",
   "metadata": {},
   "outputs": [
    {
     "data": {
      "text/html": [
       "<div>\n",
       "<style scoped>\n",
       "    .dataframe tbody tr th:only-of-type {\n",
       "        vertical-align: middle;\n",
       "    }\n",
       "\n",
       "    .dataframe tbody tr th {\n",
       "        vertical-align: top;\n",
       "    }\n",
       "\n",
       "    .dataframe thead th {\n",
       "        text-align: right;\n",
       "    }\n",
       "</style>\n",
       "<table border=\"1\" class=\"dataframe\">\n",
       "  <thead>\n",
       "    <tr style=\"text-align: right;\">\n",
       "      <th></th>\n",
       "      <th>Latitude</th>\n",
       "      <th>Longitude</th>\n",
       "      <th>City</th>\n",
       "    </tr>\n",
       "  </thead>\n",
       "  <tbody>\n",
       "    <tr>\n",
       "      <th>0</th>\n",
       "      <td>4.7110</td>\n",
       "      <td>-74.0721</td>\n",
       "      <td>Bogota</td>\n",
       "    </tr>\n",
       "    <tr>\n",
       "      <th>1</th>\n",
       "      <td>6.2476</td>\n",
       "      <td>-75.5658</td>\n",
       "      <td>Medellin</td>\n",
       "    </tr>\n",
       "    <tr>\n",
       "      <th>2</th>\n",
       "      <td>3.4516</td>\n",
       "      <td>-76.5320</td>\n",
       "      <td>Cali</td>\n",
       "    </tr>\n",
       "    <tr>\n",
       "      <th>3</th>\n",
       "      <td>11.0041</td>\n",
       "      <td>-74.8070</td>\n",
       "      <td>Barranquilla</td>\n",
       "    </tr>\n",
       "    <tr>\n",
       "      <th>4</th>\n",
       "      <td>10.3932</td>\n",
       "      <td>-75.4832</td>\n",
       "      <td>Cartagena</td>\n",
       "    </tr>\n",
       "  </tbody>\n",
       "</table>\n",
       "</div>"
      ],
      "text/plain": [
       "   Latitude  Longitude          City\n",
       "0    4.7110   -74.0721        Bogota\n",
       "1    6.2476   -75.5658      Medellin\n",
       "2    3.4516   -76.5320          Cali\n",
       "3   11.0041   -74.8070  Barranquilla\n",
       "4   10.3932   -75.4832     Cartagena"
      ]
     },
     "execution_count": 95,
     "metadata": {},
     "output_type": "execute_result"
    }
   ],
   "source": [
    "cities"
   ]
  },
  {
   "cell_type": "code",
   "execution_count": 96,
   "id": "afa62926-afc5-4fdd-b461-0ba9379e2a1c",
   "metadata": {},
   "outputs": [
    {
     "data": {
      "text/html": [
       "<div>\n",
       "<style scoped>\n",
       "    .dataframe tbody tr th:only-of-type {\n",
       "        vertical-align: middle;\n",
       "    }\n",
       "\n",
       "    .dataframe tbody tr th {\n",
       "        vertical-align: top;\n",
       "    }\n",
       "\n",
       "    .dataframe thead th {\n",
       "        text-align: right;\n",
       "    }\n",
       "</style>\n",
       "<table border=\"1\" class=\"dataframe\">\n",
       "  <thead>\n",
       "    <tr style=\"text-align: right;\">\n",
       "      <th></th>\n",
       "      <th>Latitude</th>\n",
       "      <th>Longitude</th>\n",
       "      <th>Depth</th>\n",
       "      <th>Date</th>\n",
       "      <th>Mw</th>\n",
       "      <th>Bogota_(dist) km</th>\n",
       "      <th>Medellin_(dist) km</th>\n",
       "      <th>Cali_(dist) km</th>\n",
       "      <th>Barranquilla_(dist) km</th>\n",
       "      <th>Cartagena_(dist) km</th>\n",
       "    </tr>\n",
       "  </thead>\n",
       "  <tbody>\n",
       "    <tr>\n",
       "      <th>0</th>\n",
       "      <td>4.800</td>\n",
       "      <td>-77.180</td>\n",
       "      <td>19.1</td>\n",
       "      <td>1991-11-19</td>\n",
       "      <td>7.2</td>\n",
       "      <td>344.926904</td>\n",
       "      <td>240.034517</td>\n",
       "      <td>165.556988</td>\n",
       "      <td>734.304366</td>\n",
       "      <td>646.272064</td>\n",
       "    </tr>\n",
       "    <tr>\n",
       "      <th>1</th>\n",
       "      <td>4.720</td>\n",
       "      <td>-77.570</td>\n",
       "      <td>16.0</td>\n",
       "      <td>2004-11-15</td>\n",
       "      <td>7.2</td>\n",
       "      <td>388.076099</td>\n",
       "      <td>279.032038</td>\n",
       "      <td>181.539524</td>\n",
       "      <td>758.793228</td>\n",
       "      <td>668.320425</td>\n",
       "    </tr>\n",
       "    <tr>\n",
       "      <th>2</th>\n",
       "      <td>2.849</td>\n",
       "      <td>-74.798</td>\n",
       "      <td>55.0</td>\n",
       "      <td>2067-02-09</td>\n",
       "      <td>7.0</td>\n",
       "      <td>221.122487</td>\n",
       "      <td>385.357127</td>\n",
       "      <td>203.930822</td>\n",
       "      <td>901.891370</td>\n",
       "      <td>837.746081</td>\n",
       "    </tr>\n",
       "    <tr>\n",
       "      <th>3</th>\n",
       "      <td>0.955</td>\n",
       "      <td>-79.369</td>\n",
       "      <td>25.0</td>\n",
       "      <td>2006-01-31</td>\n",
       "      <td>8.8</td>\n",
       "      <td>720.565270</td>\n",
       "      <td>721.756729</td>\n",
       "      <td>419.270076</td>\n",
       "      <td>1220.443297</td>\n",
       "      <td>1128.838142</td>\n",
       "    </tr>\n",
       "    <tr>\n",
       "      <th>4</th>\n",
       "      <td>0.025</td>\n",
       "      <td>-79.955</td>\n",
       "      <td>25.0</td>\n",
       "      <td>2042-05-14</td>\n",
       "      <td>7.8</td>\n",
       "      <td>834.503536</td>\n",
       "      <td>843.357703</td>\n",
       "      <td>537.200829</td>\n",
       "      <td>1341.101194</td>\n",
       "      <td>1248.895466</td>\n",
       "    </tr>\n",
       "    <tr>\n",
       "      <th>5</th>\n",
       "      <td>1.000</td>\n",
       "      <td>-79.400</td>\n",
       "      <td>60.0</td>\n",
       "      <td>2058-01-19</td>\n",
       "      <td>7.8</td>\n",
       "      <td>720.531318</td>\n",
       "      <td>719.754710</td>\n",
       "      <td>418.629159</td>\n",
       "      <td>1217.333828</td>\n",
       "      <td>1125.550565</td>\n",
       "    </tr>\n",
       "    <tr>\n",
       "      <th>6</th>\n",
       "      <td>0.380</td>\n",
       "      <td>-79.950</td>\n",
       "      <td>20.0</td>\n",
       "      <td>2016-04-16</td>\n",
       "      <td>7.7</td>\n",
       "      <td>810.217131</td>\n",
       "      <td>811.279789</td>\n",
       "      <td>509.838994</td>\n",
       "      <td>1305.377431</td>\n",
       "      <td>1212.692305</td>\n",
       "    </tr>\n",
       "    <tr>\n",
       "      <th>7</th>\n",
       "      <td>2.320</td>\n",
       "      <td>-78.810</td>\n",
       "      <td>19.7</td>\n",
       "      <td>1979-12-12</td>\n",
       "      <td>8.1</td>\n",
       "      <td>589.064050</td>\n",
       "      <td>564.164332</td>\n",
       "      <td>282.487221</td>\n",
       "      <td>1057.292145</td>\n",
       "      <td>965.589259</td>\n",
       "    </tr>\n",
       "  </tbody>\n",
       "</table>\n",
       "</div>"
      ],
      "text/plain": [
       "   Latitude  Longitude  Depth       Date   Mw  Bogota_(dist) km  \\\n",
       "0     4.800    -77.180   19.1 1991-11-19  7.2        344.926904   \n",
       "1     4.720    -77.570   16.0 2004-11-15  7.2        388.076099   \n",
       "2     2.849    -74.798   55.0 2067-02-09  7.0        221.122487   \n",
       "3     0.955    -79.369   25.0 2006-01-31  8.8        720.565270   \n",
       "4     0.025    -79.955   25.0 2042-05-14  7.8        834.503536   \n",
       "5     1.000    -79.400   60.0 2058-01-19  7.8        720.531318   \n",
       "6     0.380    -79.950   20.0 2016-04-16  7.7        810.217131   \n",
       "7     2.320    -78.810   19.7 1979-12-12  8.1        589.064050   \n",
       "\n",
       "   Medellin_(dist) km  Cali_(dist) km  Barranquilla_(dist) km  \\\n",
       "0          240.034517      165.556988              734.304366   \n",
       "1          279.032038      181.539524              758.793228   \n",
       "2          385.357127      203.930822              901.891370   \n",
       "3          721.756729      419.270076             1220.443297   \n",
       "4          843.357703      537.200829             1341.101194   \n",
       "5          719.754710      418.629159             1217.333828   \n",
       "6          811.279789      509.838994             1305.377431   \n",
       "7          564.164332      282.487221             1057.292145   \n",
       "\n",
       "   Cartagena_(dist) km  \n",
       "0           646.272064  \n",
       "1           668.320425  \n",
       "2           837.746081  \n",
       "3          1128.838142  \n",
       "4          1248.895466  \n",
       "5          1125.550565  \n",
       "6          1212.692305  \n",
       "7           965.589259  "
      ]
     },
     "execution_count": 96,
     "metadata": {},
     "output_type": "execute_result"
    }
   ],
   "source": [
    "for i in cities.itertuples():\n",
    "    eqs[i[3]+'_(dist) km'] = eqs.apply(lambda row: geopy.distance.geodesic( [i[1], i[2]],(row.Latitude,row.Longitude)).km, axis=1)\n",
    "eqs       "
   ]
  },
  {
   "cell_type": "code",
   "execution_count": 97,
   "id": "5594a895-44e5-4cb9-8971-c1edeaffdb1c",
   "metadata": {},
   "outputs": [],
   "source": [
    "def blind_spot(\n",
    "        eq_lat,\n",
    "        eq_lon,\n",
    "        city_lat,\n",
    "        city_lon,\n",
    "        df,\n",
    "        mini):\n",
    "    df['distance']   = df.apply(lambda row: geopy.distance.geodesic((eq_lat,eq_lon),(row.lat,row.lon)).km, axis=1)\n",
    "    df.sort_values(by='distance', inplace=True, ignore_index=True)\n",
    "    dect_dist = df.loc[mini-1,'distance']\n",
    "    return dect_dist"
   ]
  },
  {
   "cell_type": "code",
   "execution_count": 98,
   "id": "595f879e-c14d-4d03-bfab-b52b47f15be4",
   "metadata": {},
   "outputs": [],
   "source": [
    "def warning_time(\n",
    "        eq_lat,\n",
    "        eq_lon,\n",
    "        city_lat,\n",
    "        city_lon,\n",
    "        df,\n",
    "        mini,\n",
    "        velocity):\n",
    "    df['distance']   = df.apply(lambda row: geopy.distance.geodesic((eq_lat,eq_lon),(row.lat,row.lon)).km, axis=1)\n",
    "    df.sort_values(by='distance', inplace=True, ignore_index=True)\n",
    "    dect_dist = df.loc[mini-1,'distance']\n",
    "    city_dist = geopy.distance.geodesic((eq_lat,eq_lon),(city_lat,city_lon)).km\n",
    "    warning_time_sec = (city_dist - dect_dist)/velocity\n",
    "    return warning_time_sec"
   ]
  },
  {
   "cell_type": "code",
   "execution_count": 99,
   "id": "2e418d96-5699-411e-bf61-0799cc17c646",
   "metadata": {},
   "outputs": [],
   "source": [
    "for i in cities.itertuples():\n",
    "    eqs[i[3]+'_BlindSpot_(NoSim) km'] = eqs.apply(lambda row: blind_spot(row.Latitude, row.Longitude, i[1], i[2], df, min), axis=1)"
   ]
  },
  {
   "cell_type": "code",
   "execution_count": 100,
   "id": "2a74f624-f206-4218-8c34-31346e5e4c19",
   "metadata": {},
   "outputs": [],
   "source": [
    "for i in cities.itertuples():\n",
    "    eqs[i[3]+'_Warning_(NoSim) sec'] = eqs.apply(lambda row: warning_time(row.Latitude, row.Longitude, i[1], i[2], df, min, vel), axis=1)"
   ]
  },
  {
   "cell_type": "code",
   "execution_count": 101,
   "id": "5992fb17-eaa5-4f24-a180-475413e42375",
   "metadata": {},
   "outputs": [],
   "source": [
    "df25 = pd.read_csv('Sim-25km-Noise.csv')\n",
    "frames = [dfC, dfE, df25]\n",
    "df = pd.concat(frames)"
   ]
  },
  {
   "cell_type": "code",
   "execution_count": 102,
   "id": "2a6f31f3-d672-4906-8277-16518bd88757",
   "metadata": {},
   "outputs": [],
   "source": [
    "for i in cities.itertuples():\n",
    "    eqs[i[3]+'_BlindSpot_(25km) km'] = eqs.apply(lambda row: blind_spot(row.Latitude, row.Longitude, i[1], i[2], df, min), axis=1)"
   ]
  },
  {
   "cell_type": "code",
   "execution_count": 103,
   "id": "449ce8e5-c3cf-4477-acf8-085e5113114d",
   "metadata": {},
   "outputs": [],
   "source": [
    "for i in cities.itertuples():\n",
    "    eqs[i[3]+'_Warning_(25km) sec'] = eqs.apply(lambda row: warning_time(row.Latitude, row.Longitude, i[1], i[2], df, min, vel), axis=1)"
   ]
  },
  {
   "cell_type": "code",
   "execution_count": 104,
   "id": "0f6dec0d-de27-459c-8628-970efdea28bd",
   "metadata": {},
   "outputs": [],
   "source": [
    "df50 = pd.read_csv('Sim-50km-Noise.csv')\n",
    "frames = [dfC, dfE, df50]\n",
    "df = pd.concat(frames)"
   ]
  },
  {
   "cell_type": "code",
   "execution_count": 105,
   "id": "56069518-ff77-41ca-ae59-965e42db0920",
   "metadata": {},
   "outputs": [],
   "source": [
    "for i in cities.itertuples():\n",
    "    eqs[i[3]+'_BlindSpot_(50km) km'] = eqs.apply(lambda row: blind_spot(row.Latitude, row.Longitude, i[1], i[2], df, min), axis=1)"
   ]
  },
  {
   "cell_type": "code",
   "execution_count": 106,
   "id": "32672bfc-8fb3-46cf-82e3-61014e5ac0d6",
   "metadata": {},
   "outputs": [],
   "source": [
    "for i in cities.itertuples():\n",
    "    eqs[i[3]+'_Warning_(25km) sec'] = eqs.apply(lambda row: warning_time(row.Latitude, row.Longitude, i[1], i[2], df, min, vel), axis=1)"
   ]
  },
  {
   "cell_type": "code",
   "execution_count": 107,
   "id": "54c769e3-289c-4cc6-8f55-7b713f4b7db5",
   "metadata": {},
   "outputs": [],
   "source": [
    "df100 = pd.read_csv('Sim-100km-Noise.csv')\n",
    "frames = [dfC, dfE, df100]\n",
    "df = pd.concat(frames)"
   ]
  },
  {
   "cell_type": "code",
   "execution_count": 108,
   "id": "0fac4e73-4674-4640-842f-fcdfae1eeab5",
   "metadata": {},
   "outputs": [],
   "source": [
    "for i in cities.itertuples():\n",
    "    eqs[i[3]+'_BlindSpot_(100km) km'] = eqs.apply(lambda row: blind_spot(row.Latitude, row.Longitude, i[1], i[2], df, min), axis=1)"
   ]
  },
  {
   "cell_type": "code",
   "execution_count": 109,
   "id": "71c92bd5-5c30-465f-9571-f8d0502e3536",
   "metadata": {},
   "outputs": [],
   "source": [
    "for i in cities.itertuples():\n",
    "    eqs[i[3]+'_Warning_(100km) sec'] = eqs.apply(lambda row: warning_time(row.Latitude, row.Longitude, i[1], i[2], df, min, vel), axis=1)"
   ]
  },
  {
   "cell_type": "code",
   "execution_count": 110,
   "id": "c72fc4a0-f6de-487e-896e-0bc61775fdac",
   "metadata": {},
   "outputs": [],
   "source": [
    "eqs.to_csv('DetectionTable.csv', float_format=\"%.1f\")"
   ]
  },
  {
   "cell_type": "code",
   "execution_count": null,
   "id": "acd33b69-8096-481f-b82b-1bd6ea727d51",
   "metadata": {},
   "outputs": [],
   "source": []
  }
 ],
 "metadata": {
  "kernelspec": {
   "display_name": "filesystem-eew",
   "language": "python",
   "name": "conda-env-filesystem-eew-py"
  },
  "language_info": {
   "codemirror_mode": {
    "name": "ipython",
    "version": 3
   },
   "file_extension": ".py",
   "mimetype": "text/x-python",
   "name": "python",
   "nbconvert_exporter": "python",
   "pygments_lexer": "ipython3",
   "version": "3.9.12"
  }
 },
 "nbformat": 4,
 "nbformat_minor": 5
}
